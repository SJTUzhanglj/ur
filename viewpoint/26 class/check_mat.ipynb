{
 "cells": [
  {
   "cell_type": "code",
   "execution_count": 1,
   "metadata": {
    "collapsed": true
   },
   "outputs": [],
   "source": [
    "# License: BSD\n",
    "# Author: Sasank Chilamkurthy+Zhang Liangjun\n",
    "#verson 1.0\n",
    "#class 2classes\n",
    "%matplotlib inline\n",
    "import torch\n",
    "import torch.nn as nn\n",
    "import torch.optim as optim\n",
    "from torch.autograd import Variable\n",
    "import torch.nn.functional as F\n",
    "import scipy.io as scio\n",
    "import numpy as np\n",
    "import torchvision\n",
    "from torchvision import datasets, models, transforms\n",
    "import time\n",
    "import copy\n",
    "import os\n",
    "import torch.utils.data as data\n",
    "import random\n",
    "import shutil\n",
    "import glob\n",
    "import csv\n",
    "import math\n",
    "import pandas\n",
    "import cv2\n",
    "from matplotlib import pyplot as plt\n",
    "from skimage import transform\n",
    "\n"
   ]
  },
  {
   "cell_type": "code",
   "execution_count": 8,
   "metadata": {
    "collapsed": true
   },
   "outputs": [],
   "source": [
    "#input:mat file\n",
    "#output: tensor\n",
    "def mat_read(filepath):\n",
    "    dataFile = filepath\n",
    "    data = scio.loadmat(dataFile)\n",
    "    depth = data['depth']\n",
    "    #读取mat里的depth数据\n"
   ]
  },
  {
   "cell_type": "code",
   "execution_count": 15,
   "metadata": {
    "collapsed": false,
    "scrolled": true
   },
   "outputs": [
    {
     "name": "stdout",
     "output_type": "stream",
     "text": [
      "['off_10_0_0', 'off_11_0_45', 'off_12_0_90', 'off_13_0_135', 'off_14_0_180', 'off_15_0_225', 'off_16_0_270', 'off_17_0_315', 'off_18_-45_0', 'off_19_-45_45', 'off_1_90_0', 'off_20_-45_90', 'off_21_-45_135', 'off_22_-45_180', 'off_23_-45_225', 'off_24_-45_270', 'off_25_-45_315', 'off_26_-90_0', 'off_2_45_0', 'off_3_45_45', 'off_4_45_90', 'off_5_45_135', 'off_6_45_180', 'off_7_45_225', 'off_8_45_270', 'off_9_45_315']\n"
     ]
    }
   ],
   "source": [
    "dir_name='/home/sjtu/gcj/data/depth_data/depth_26class/val'\n",
    "for root, dirnames, _ in os.walk(dir_name):\n",
    "    dirname = dirnames\n",
    "    break\n",
    "\n",
    "dirname = sorted(dirname)\n",
    "print dirname"
   ]
  },
  {
   "cell_type": "code",
   "execution_count": 16,
   "metadata": {
    "collapsed": false
   },
   "outputs": [
    {
     "name": "stdout",
     "output_type": "stream",
     "text": [
      "6\n",
      "7\n",
      "8\n",
      "9\n",
      "10\n",
      "11\n",
      "12\n",
      "13\n",
      "14\n",
      "15\n",
      "16\n",
      "17\n",
      "18\n",
      "19\n",
      "20\n",
      "21\n",
      "22\n",
      "23\n",
      "24\n",
      "25\n"
     ]
    }
   ],
   "source": [
    "for i in range(6,26):\n",
    "    dname = os.path.join(dir_name, dirname[i])\n",
    "    names = glob.glob(dname+r'/*.mat')  \n",
    "    names = sorted(names)\n",
    "    print i\n",
    "    for name in names:\n",
    "        error_path = name\n",
    "        mat_read(name)"
   ]
  },
  {
   "cell_type": "code",
   "execution_count": 13,
   "metadata": {
    "collapsed": false
   },
   "outputs": [
    {
     "name": "stdout",
     "output_type": "stream",
     "text": [
      "/home/sjtu/gcj/data/depth_data/depth_26class/train/off_16_0_270/1991_new.mat\n"
     ]
    }
   ],
   "source": [
    "print error_path"
   ]
  },
  {
   "cell_type": "code",
   "execution_count": null,
   "metadata": {
    "collapsed": true
   },
   "outputs": [],
   "source": []
  }
 ],
 "metadata": {
  "anaconda-cloud": {},
  "kernelspec": {
   "display_name": "Python [conda root]",
   "language": "python",
   "name": "conda-root-py"
  },
  "language_info": {
   "codemirror_mode": {
    "name": "ipython",
    "version": 2
   },
   "file_extension": ".py",
   "mimetype": "text/x-python",
   "name": "python",
   "nbconvert_exporter": "python",
   "pygments_lexer": "ipython2",
   "version": "2.7.12"
  }
 },
 "nbformat": 4,
 "nbformat_minor": 1
}
